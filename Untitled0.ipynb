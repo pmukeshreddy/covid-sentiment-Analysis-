{
  "nbformat": 4,
  "nbformat_minor": 0,
  "metadata": {
    "colab": {
      "provenance": [],
      "mount_file_id": "13KwLeoWMC4alKi8045kBx3KW0WaF4I0H",
      "authorship_tag": "ABX9TyPGl/a0SnZwg+pemSSFsRE9",
      "include_colab_link": true
    },
    "kernelspec": {
      "name": "python3",
      "display_name": "Python 3"
    },
    "language_info": {
      "name": "python"
    },
    "accelerator": "GPU",
    "gpuClass": "standard"
  },
  "cells": [
    {
      "cell_type": "markdown",
      "metadata": {
        "id": "view-in-github",
        "colab_type": "text"
      },
      "source": [
        "<a href=\"https://colab.research.google.com/github/pmukeshreddy/covid-sentiment-Analysis-/blob/main/Untitled0.ipynb\" target=\"_parent\"><img src=\"https://colab.research.google.com/assets/colab-badge.svg\" alt=\"Open In Colab\"/></a>"
      ]
    },
    {
      "cell_type": "code",
      "execution_count": 70,
      "metadata": {
        "id": "zcFOBfTIw926"
      },
      "outputs": [],
      "source": [
        "import pandas as pd"
      ]
    },
    {
      "cell_type": "code",
      "source": [
        "train_data = pd.read_csv(\"/content/drive/MyDrive/covid tweets using nlp/archive (11)/Corona_NLP_train.csv\",encoding='latin-1')\n",
        "test_data = pd.read_csv(\"/content/drive/MyDrive/covid tweets using nlp/archive (11)/Corona_NLP_test.csv\",encoding='latin-1')"
      ],
      "metadata": {
        "id": "aSdzqwdMxPWB"
      },
      "execution_count": 71,
      "outputs": []
    },
    {
      "cell_type": "code",
      "source": [
        "train_data"
      ],
      "metadata": {
        "colab": {
          "base_uri": "https://localhost:8080/",
          "height": 424
        },
        "id": "kjTySx1kxioE",
        "outputId": "3ce422a2-017f-4c90-99a3-b82e2f660c5b"
      },
      "execution_count": 72,
      "outputs": [
        {
          "output_type": "execute_result",
          "data": {
            "text/plain": [
              "       UserName  ScreenName                      Location     TweetAt  \\\n",
              "0          3799       48751                        London  16-03-2020   \n",
              "1          3800       48752                            UK  16-03-2020   \n",
              "2          3801       48753                     Vagabonds  16-03-2020   \n",
              "3          3802       48754                           NaN  16-03-2020   \n",
              "4          3803       48755                           NaN  16-03-2020   \n",
              "...         ...         ...                           ...         ...   \n",
              "41152     44951       89903  Wellington City, New Zealand  14-04-2020   \n",
              "41153     44952       89904                           NaN  14-04-2020   \n",
              "41154     44953       89905                           NaN  14-04-2020   \n",
              "41155     44954       89906                           NaN  14-04-2020   \n",
              "41156     44955       89907  i love you so much || he/him  14-04-2020   \n",
              "\n",
              "                                           OriginalTweet           Sentiment  \n",
              "0      @MeNyrbie @Phil_Gahan @Chrisitv https://t.co/i...             Neutral  \n",
              "1      advice Talk to your neighbours family to excha...            Positive  \n",
              "2      Coronavirus Australia: Woolworths to give elde...            Positive  \n",
              "3      My food stock is not the only one which is emp...            Positive  \n",
              "4      Me, ready to go at supermarket during the #COV...  Extremely Negative  \n",
              "...                                                  ...                 ...  \n",
              "41152  Airline pilots offering to stock supermarket s...             Neutral  \n",
              "41153  Response to complaint not provided citing COVI...  Extremely Negative  \n",
              "41154  You know itÂs getting tough when @KameronWild...            Positive  \n",
              "41155  Is it wrong that the smell of hand sanitizer i...             Neutral  \n",
              "41156  @TartiiCat Well new/used Rift S are going for ...            Negative  \n",
              "\n",
              "[41157 rows x 6 columns]"
            ],
            "text/html": [
              "\n",
              "  <div id=\"df-ea9755cb-a31e-4860-867e-4a42262462d6\">\n",
              "    <div class=\"colab-df-container\">\n",
              "      <div>\n",
              "<style scoped>\n",
              "    .dataframe tbody tr th:only-of-type {\n",
              "        vertical-align: middle;\n",
              "    }\n",
              "\n",
              "    .dataframe tbody tr th {\n",
              "        vertical-align: top;\n",
              "    }\n",
              "\n",
              "    .dataframe thead th {\n",
              "        text-align: right;\n",
              "    }\n",
              "</style>\n",
              "<table border=\"1\" class=\"dataframe\">\n",
              "  <thead>\n",
              "    <tr style=\"text-align: right;\">\n",
              "      <th></th>\n",
              "      <th>UserName</th>\n",
              "      <th>ScreenName</th>\n",
              "      <th>Location</th>\n",
              "      <th>TweetAt</th>\n",
              "      <th>OriginalTweet</th>\n",
              "      <th>Sentiment</th>\n",
              "    </tr>\n",
              "  </thead>\n",
              "  <tbody>\n",
              "    <tr>\n",
              "      <th>0</th>\n",
              "      <td>3799</td>\n",
              "      <td>48751</td>\n",
              "      <td>London</td>\n",
              "      <td>16-03-2020</td>\n",
              "      <td>@MeNyrbie @Phil_Gahan @Chrisitv https://t.co/i...</td>\n",
              "      <td>Neutral</td>\n",
              "    </tr>\n",
              "    <tr>\n",
              "      <th>1</th>\n",
              "      <td>3800</td>\n",
              "      <td>48752</td>\n",
              "      <td>UK</td>\n",
              "      <td>16-03-2020</td>\n",
              "      <td>advice Talk to your neighbours family to excha...</td>\n",
              "      <td>Positive</td>\n",
              "    </tr>\n",
              "    <tr>\n",
              "      <th>2</th>\n",
              "      <td>3801</td>\n",
              "      <td>48753</td>\n",
              "      <td>Vagabonds</td>\n",
              "      <td>16-03-2020</td>\n",
              "      <td>Coronavirus Australia: Woolworths to give elde...</td>\n",
              "      <td>Positive</td>\n",
              "    </tr>\n",
              "    <tr>\n",
              "      <th>3</th>\n",
              "      <td>3802</td>\n",
              "      <td>48754</td>\n",
              "      <td>NaN</td>\n",
              "      <td>16-03-2020</td>\n",
              "      <td>My food stock is not the only one which is emp...</td>\n",
              "      <td>Positive</td>\n",
              "    </tr>\n",
              "    <tr>\n",
              "      <th>4</th>\n",
              "      <td>3803</td>\n",
              "      <td>48755</td>\n",
              "      <td>NaN</td>\n",
              "      <td>16-03-2020</td>\n",
              "      <td>Me, ready to go at supermarket during the #COV...</td>\n",
              "      <td>Extremely Negative</td>\n",
              "    </tr>\n",
              "    <tr>\n",
              "      <th>...</th>\n",
              "      <td>...</td>\n",
              "      <td>...</td>\n",
              "      <td>...</td>\n",
              "      <td>...</td>\n",
              "      <td>...</td>\n",
              "      <td>...</td>\n",
              "    </tr>\n",
              "    <tr>\n",
              "      <th>41152</th>\n",
              "      <td>44951</td>\n",
              "      <td>89903</td>\n",
              "      <td>Wellington City, New Zealand</td>\n",
              "      <td>14-04-2020</td>\n",
              "      <td>Airline pilots offering to stock supermarket s...</td>\n",
              "      <td>Neutral</td>\n",
              "    </tr>\n",
              "    <tr>\n",
              "      <th>41153</th>\n",
              "      <td>44952</td>\n",
              "      <td>89904</td>\n",
              "      <td>NaN</td>\n",
              "      <td>14-04-2020</td>\n",
              "      <td>Response to complaint not provided citing COVI...</td>\n",
              "      <td>Extremely Negative</td>\n",
              "    </tr>\n",
              "    <tr>\n",
              "      <th>41154</th>\n",
              "      <td>44953</td>\n",
              "      <td>89905</td>\n",
              "      <td>NaN</td>\n",
              "      <td>14-04-2020</td>\n",
              "      <td>You know itÂs getting tough when @KameronWild...</td>\n",
              "      <td>Positive</td>\n",
              "    </tr>\n",
              "    <tr>\n",
              "      <th>41155</th>\n",
              "      <td>44954</td>\n",
              "      <td>89906</td>\n",
              "      <td>NaN</td>\n",
              "      <td>14-04-2020</td>\n",
              "      <td>Is it wrong that the smell of hand sanitizer i...</td>\n",
              "      <td>Neutral</td>\n",
              "    </tr>\n",
              "    <tr>\n",
              "      <th>41156</th>\n",
              "      <td>44955</td>\n",
              "      <td>89907</td>\n",
              "      <td>i love you so much || he/him</td>\n",
              "      <td>14-04-2020</td>\n",
              "      <td>@TartiiCat Well new/used Rift S are going for ...</td>\n",
              "      <td>Negative</td>\n",
              "    </tr>\n",
              "  </tbody>\n",
              "</table>\n",
              "<p>41157 rows × 6 columns</p>\n",
              "</div>\n",
              "      <button class=\"colab-df-convert\" onclick=\"convertToInteractive('df-ea9755cb-a31e-4860-867e-4a42262462d6')\"\n",
              "              title=\"Convert this dataframe to an interactive table.\"\n",
              "              style=\"display:none;\">\n",
              "        \n",
              "  <svg xmlns=\"http://www.w3.org/2000/svg\" height=\"24px\"viewBox=\"0 0 24 24\"\n",
              "       width=\"24px\">\n",
              "    <path d=\"M0 0h24v24H0V0z\" fill=\"none\"/>\n",
              "    <path d=\"M18.56 5.44l.94 2.06.94-2.06 2.06-.94-2.06-.94-.94-2.06-.94 2.06-2.06.94zm-11 1L8.5 8.5l.94-2.06 2.06-.94-2.06-.94L8.5 2.5l-.94 2.06-2.06.94zm10 10l.94 2.06.94-2.06 2.06-.94-2.06-.94-.94-2.06-.94 2.06-2.06.94z\"/><path d=\"M17.41 7.96l-1.37-1.37c-.4-.4-.92-.59-1.43-.59-.52 0-1.04.2-1.43.59L10.3 9.45l-7.72 7.72c-.78.78-.78 2.05 0 2.83L4 21.41c.39.39.9.59 1.41.59.51 0 1.02-.2 1.41-.59l7.78-7.78 2.81-2.81c.8-.78.8-2.07 0-2.86zM5.41 20L4 18.59l7.72-7.72 1.47 1.35L5.41 20z\"/>\n",
              "  </svg>\n",
              "      </button>\n",
              "      \n",
              "  <style>\n",
              "    .colab-df-container {\n",
              "      display:flex;\n",
              "      flex-wrap:wrap;\n",
              "      gap: 12px;\n",
              "    }\n",
              "\n",
              "    .colab-df-convert {\n",
              "      background-color: #E8F0FE;\n",
              "      border: none;\n",
              "      border-radius: 50%;\n",
              "      cursor: pointer;\n",
              "      display: none;\n",
              "      fill: #1967D2;\n",
              "      height: 32px;\n",
              "      padding: 0 0 0 0;\n",
              "      width: 32px;\n",
              "    }\n",
              "\n",
              "    .colab-df-convert:hover {\n",
              "      background-color: #E2EBFA;\n",
              "      box-shadow: 0px 1px 2px rgba(60, 64, 67, 0.3), 0px 1px 3px 1px rgba(60, 64, 67, 0.15);\n",
              "      fill: #174EA6;\n",
              "    }\n",
              "\n",
              "    [theme=dark] .colab-df-convert {\n",
              "      background-color: #3B4455;\n",
              "      fill: #D2E3FC;\n",
              "    }\n",
              "\n",
              "    [theme=dark] .colab-df-convert:hover {\n",
              "      background-color: #434B5C;\n",
              "      box-shadow: 0px 1px 3px 1px rgba(0, 0, 0, 0.15);\n",
              "      filter: drop-shadow(0px 1px 2px rgba(0, 0, 0, 0.3));\n",
              "      fill: #FFFFFF;\n",
              "    }\n",
              "  </style>\n",
              "\n",
              "      <script>\n",
              "        const buttonEl =\n",
              "          document.querySelector('#df-ea9755cb-a31e-4860-867e-4a42262462d6 button.colab-df-convert');\n",
              "        buttonEl.style.display =\n",
              "          google.colab.kernel.accessAllowed ? 'block' : 'none';\n",
              "\n",
              "        async function convertToInteractive(key) {\n",
              "          const element = document.querySelector('#df-ea9755cb-a31e-4860-867e-4a42262462d6');\n",
              "          const dataTable =\n",
              "            await google.colab.kernel.invokeFunction('convertToInteractive',\n",
              "                                                     [key], {});\n",
              "          if (!dataTable) return;\n",
              "\n",
              "          const docLinkHtml = 'Like what you see? Visit the ' +\n",
              "            '<a target=\"_blank\" href=https://colab.research.google.com/notebooks/data_table.ipynb>data table notebook</a>'\n",
              "            + ' to learn more about interactive tables.';\n",
              "          element.innerHTML = '';\n",
              "          dataTable['output_type'] = 'display_data';\n",
              "          await google.colab.output.renderOutput(dataTable, element);\n",
              "          const docLink = document.createElement('div');\n",
              "          docLink.innerHTML = docLinkHtml;\n",
              "          element.appendChild(docLink);\n",
              "        }\n",
              "      </script>\n",
              "    </div>\n",
              "  </div>\n",
              "  "
            ]
          },
          "metadata": {},
          "execution_count": 72
        }
      ]
    },
    {
      "cell_type": "code",
      "source": [
        "train_data.isnull().sum()"
      ],
      "metadata": {
        "colab": {
          "base_uri": "https://localhost:8080/"
        },
        "id": "7OqqMNcmxppm",
        "outputId": "69b33268-bde8-4ec7-8915-0d39c9c8dd82"
      },
      "execution_count": 73,
      "outputs": [
        {
          "output_type": "execute_result",
          "data": {
            "text/plain": [
              "UserName            0\n",
              "ScreenName          0\n",
              "Location         8590\n",
              "TweetAt             0\n",
              "OriginalTweet       0\n",
              "Sentiment           0\n",
              "dtype: int64"
            ]
          },
          "metadata": {},
          "execution_count": 73
        }
      ]
    },
    {
      "cell_type": "code",
      "source": [
        "test_data.isnull().sum()"
      ],
      "metadata": {
        "colab": {
          "base_uri": "https://localhost:8080/"
        },
        "id": "MPWyeU8Lxvtv",
        "outputId": "6dc2ea9a-08e9-4e6a-e298-fca5c7f4e478"
      },
      "execution_count": 74,
      "outputs": [
        {
          "output_type": "execute_result",
          "data": {
            "text/plain": [
              "UserName           0\n",
              "ScreenName         0\n",
              "Location         834\n",
              "TweetAt            0\n",
              "OriginalTweet      0\n",
              "Sentiment          0\n",
              "dtype: int64"
            ]
          },
          "metadata": {},
          "execution_count": 74
        }
      ]
    },
    {
      "cell_type": "code",
      "source": [
        "train_data.dropna(inplace=True)\n",
        "test_data.dropna(inplace=True)"
      ],
      "metadata": {
        "id": "D6RqCxjtxzFB"
      },
      "execution_count": 75,
      "outputs": []
    },
    {
      "cell_type": "code",
      "source": [
        "test_data.isnull().sum()"
      ],
      "metadata": {
        "colab": {
          "base_uri": "https://localhost:8080/"
        },
        "id": "EDUB0j5gx7I2",
        "outputId": "053deccd-7eca-4b88-f4ed-110d5c4cf4bb"
      },
      "execution_count": 76,
      "outputs": [
        {
          "output_type": "execute_result",
          "data": {
            "text/plain": [
              "UserName         0\n",
              "ScreenName       0\n",
              "Location         0\n",
              "TweetAt          0\n",
              "OriginalTweet    0\n",
              "Sentiment        0\n",
              "dtype: int64"
            ]
          },
          "metadata": {},
          "execution_count": 76
        }
      ]
    },
    {
      "cell_type": "code",
      "source": [
        "train_data.isnull().sum()"
      ],
      "metadata": {
        "colab": {
          "base_uri": "https://localhost:8080/"
        },
        "id": "MOWEsK0Ox8qA",
        "outputId": "08824fec-6dc0-4498-f53f-56a9f9c6befd"
      },
      "execution_count": 77,
      "outputs": [
        {
          "output_type": "execute_result",
          "data": {
            "text/plain": [
              "UserName         0\n",
              "ScreenName       0\n",
              "Location         0\n",
              "TweetAt          0\n",
              "OriginalTweet    0\n",
              "Sentiment        0\n",
              "dtype: int64"
            ]
          },
          "metadata": {},
          "execution_count": 77
        }
      ]
    },
    {
      "cell_type": "code",
      "source": [
        "x = train_data.OriginalTweet.values\n",
        "y = train_data.Sentiment.values"
      ],
      "metadata": {
        "id": "nPfLn9-XyAEZ"
      },
      "execution_count": 78,
      "outputs": []
    },
    {
      "cell_type": "code",
      "source": [
        "from sklearn.model_selection import train_test_split\n",
        "\n",
        "x_train,x_val,y_train,y_val = train_test_split(x,y,test_size=.1)"
      ],
      "metadata": {
        "id": "sfLsXdd6yKSe"
      },
      "execution_count": 79,
      "outputs": []
    },
    {
      "cell_type": "code",
      "source": [
        "x_test = test_data.OriginalTweet.values\n",
        "y_test = test_data.Sentiment.values"
      ],
      "metadata": {
        "id": "hgz_DhJLykDF"
      },
      "execution_count": 111,
      "outputs": []
    },
    {
      "cell_type": "code",
      "source": [
        "import seaborn as sns\n",
        "import matplotlib.pyplot as plt"
      ],
      "metadata": {
        "id": "u9QC9sEOyrl7"
      },
      "execution_count": 81,
      "outputs": []
    },
    {
      "cell_type": "code",
      "source": [
        "plt.subplots(figsize=(10,8))\n",
        "ax = sns.countplot(y_train)"
      ],
      "metadata": {
        "colab": {
          "base_uri": "https://localhost:8080/",
          "height": 539
        },
        "id": "O8bYAq05y1As",
        "outputId": "d42cb723-8007-4a9c-ccf9-526d46b3c743"
      },
      "execution_count": 82,
      "outputs": [
        {
          "output_type": "stream",
          "name": "stderr",
          "text": [
            "/usr/local/lib/python3.8/dist-packages/seaborn/_decorators.py:36: FutureWarning: Pass the following variable as a keyword arg: x. From version 0.12, the only valid positional argument will be `data`, and passing other arguments without an explicit keyword will result in an error or misinterpretation.\n",
            "  warnings.warn(\n"
          ]
        },
        {
          "output_type": "display_data",
          "data": {
            "text/plain": [
              "<Figure size 720x576 with 1 Axes>"
            ],
            "image/png": "[encoded data removed]"
          },
          "metadata": {
            "needs_background": "light"
          }
        }
      ]
    },
    {
      "cell_type": "code",
      "source": [
        "x_train"
      ],
      "metadata": {
        "colab": {
          "base_uri": "https://localhost:8080/"
        },
        "id": "5FD17UBhzWex",
        "outputId": "a66d6354-43e0-4a7c-fef4-2ac9df72b0eb"
      },
      "execution_count": 83,
      "outputs": [
        {
          "output_type": "execute_result",
          "data": {
            "text/plain": [
              "array(['Dow surges 780 points on COVID-19 recovery efforts as oil prices spike | Markets Insider https://t.co/6Q8WHaMQyZ',\n",
              "       '#BoycottHUL\\r\\r\\nAt the time of #Coronavirus the global FMCG Giant HUL has increased prices on its soaps upto 10% just to take advantage of rising demand.\\r\\r\\n@CimGOI @irvpaswan must take action against this colonial opportunist.\\r\\r\\nThank you @AnilSinghvi_ Ji  for raising voice of consumers.',\n",
              "       'Gratitude note to all front liners such as healthcare workers,  cashiers, supermarket attendants, security guards, police, military, servers in the food industry etc  combating Covid-2019. #gratitude #frontliners #real #heros #fighting #bravely #covid_19 #covid_2019 #coronovirus https://t.co/A5jUAF539m',\n",
              "       ...,\n",
              "       'moonbeamwishes Hey, Megan! We will work to keep our Clubs stocked and prices fair. As one would expect, paper products, cleaning supplies and other items are in high demand as Members prepare for the possible impact of COVID-19.',\n",
              "       \"The #LatAmAdvisor has covered #COVID?19's effects on the region's health care systems, metals' prices, the tourism industry and Ecuador's economy... and there are more to come!\\r\\r\\n\\r\\r\\nStay updated on our #coronavirus Q&amp;As with @The_Dialogue's new webpage: https://t.co/x9LMCrZYhs\",\n",
              "       'Grocery Store Should Enforce Limits On The Number Of Repetitive Items Purchased Right Now Wiggly'],\n",
              "      dtype=object)"
            ]
          },
          "metadata": {},
          "execution_count": 83
        }
      ]
    },
    {
      "cell_type": "code",
      "source": [
        "x_train[0]"
      ],
      "metadata": {
        "colab": {
          "base_uri": "https://localhost:8080/",
          "height": 35
        },
        "id": "bekANTPm0deV",
        "outputId": "02ba8c18-d079-4fe8-8d89-c4d6809662be"
      },
      "execution_count": 84,
      "outputs": [
        {
          "output_type": "execute_result",
          "data": {
            "text/plain": [
              "'Dow surges 780 points on COVID-19 recovery efforts as oil prices spike | Markets Insider https://t.co/6Q8WHaMQyZ'"
            ],
            "application/vnd.google.colaboratory.intrinsic+json": {
              "type": "string"
            }
          },
          "metadata": {},
          "execution_count": 84
        }
      ]
    },
    {
      "cell_type": "code",
      "source": [
        "import numpy as np"
      ],
      "metadata": {
        "id": "IHBk4QWk0uAJ"
      },
      "execution_count": 85,
      "outputs": []
    },
    {
      "cell_type": "code",
      "source": [
        "text_len = np.array([len(tweet.split(\" \")) for tweet in x_train])"
      ],
      "metadata": {
        "id": "EZD9m9V20g1g"
      },
      "execution_count": 86,
      "outputs": []
    },
    {
      "cell_type": "code",
      "source": [
        "text_len"
      ],
      "metadata": {
        "colab": {
          "base_uri": "https://localhost:8080/"
        },
        "id": "NkB6ZLoQ0voB",
        "outputId": "2fe28ed6-dfab-40ac-f9ae-014d3dad0fe2"
      },
      "execution_count": 87,
      "outputs": [
        {
          "output_type": "execute_result",
          "data": {
            "text/plain": [
              "array([16, 42, 37, ..., 38, 36, 15])"
            ]
          },
          "metadata": {},
          "execution_count": 87
        }
      ]
    },
    {
      "cell_type": "code",
      "source": [
        "text_len[y_train == \"Positive\"]"
      ],
      "metadata": {
        "colab": {
          "base_uri": "https://localhost:8080/"
        },
        "id": "y2K_tiDB1VoB",
        "outputId": "684f13fb-6bad-4fd6-a7e5-20cefa71d24e"
      },
      "execution_count": 88,
      "outputs": [
        {
          "output_type": "execute_result",
          "data": {
            "text/plain": [
              "array([16, 31, 18, ..., 36, 38, 36])"
            ]
          },
          "metadata": {},
          "execution_count": 88
        }
      ]
    },
    {
      "cell_type": "code",
      "source": [
        "plt.subplots(figsize=(12,8))\n",
        "sns.distplot(text_len[y_train == \"Positive\"],color=\"g\")\n",
        "sns.distplot(text_len[y_train == \"Negative\"],color=\"r\")\n",
        "sns.distplot(text_len[y_train == \"Extremely Positive\"],color=\"blue\")\n",
        "sns.distplot(text_len[y_train == \"Extremely Negative\"],color=\"purple\")\n",
        "sns.distplot(text_len[y_train == \"Neutral\"],color=\"black\")\n",
        "plt.legend([\"Positive\",\"Negative\",\"Extremely Positive\",\"Extremely Negative\",\"Neutral\"])\n",
        "plt.show()"
      ],
      "metadata": {
        "colab": {
          "base_uri": "https://localhost:8080/",
          "height": 699
        },
        "id": "YkwnZBAT06Q8",
        "outputId": "39c08dc7-b24f-4df7-8ec0-dc200cca12fe"
      },
      "execution_count": 89,
      "outputs": [
        {
          "output_type": "stream",
          "name": "stderr",
          "text": [
            "\r  0%|          | 0/29310 [10:58<?, ?it/s]/usr/local/lib/python3.8/dist-packages/seaborn/distributions.py:2619: FutureWarning: `distplot` is a deprecated function and will be removed in a future version. Please adapt your code to use either `displot` (a figure-level function with similar flexibility) or `histplot` (an axes-level function for histograms).\n",
            "  warnings.warn(msg, FutureWarning)\n",
            "\n",
            "/usr/local/lib/python3.8/dist-packages/seaborn/distributions.py:2619: FutureWarning: `distplot` is a deprecated function and will be removed in a future version. Please adapt your code to use either `displot` (a figure-level function with similar flexibility) or `histplot` (an axes-level function for histograms).\n",
            "  warnings.warn(msg, FutureWarning)\n",
            "/usr/local/lib/python3.8/dist-packages/seaborn/distributions.py:2619: FutureWarning: `distplot` is a deprecated function and will be removed in a future version. Please adapt your code to use either `displot` (a figure-level function with similar flexibility) or `histplot` (an axes-level function for histograms).\n",
            "  warnings.warn(msg, FutureWarning)\n",
            "/usr/local/lib/python3.8/dist-packages/seaborn/distributions.py:2619: FutureWarning: `distplot` is a deprecated function and will be removed in a future version. Please adapt your code to use either `displot` (a figure-level function with similar flexibility) or `histplot` (an axes-level function for histograms).\n",
            "  warnings.warn(msg, FutureWarning)\n",
            "/usr/local/lib/python3.8/dist-packages/seaborn/distributions.py:2619: FutureWarning: `distplot` is a deprecated function and will be removed in a future version. Please adapt your code to use either `displot` (a figure-level function with similar flexibility) or `histplot` (an axes-level function for histograms).\n",
            "  warnings.warn(msg, FutureWarning)\n"
          ]
        },
        {
          "output_type": "display_data",
          "data": {
            "text/plain": [
              "<Figure size 864x576 with 1 Axes>"
            ],
            "image/png": "[encoded data removed]"
          },
          "metadata": {
            "needs_background": "light"
          }
        }
      ]
    },
    {
      "cell_type": "markdown",
      "source": [
        "text cleaning"
      ],
      "metadata": {
        "id": "dYZ-59XR2xFT"
      }
    },
    {
      "cell_type": "code",
      "source": [
        "import re"
      ],
      "metadata": {
        "id": "zdqzr6iQD8sR"
      },
      "execution_count": 90,
      "outputs": []
    },
    {
      "cell_type": "code",
      "source": [
        "def remove_emoji(text):\n",
        "  emoji_pattern = re.compile(\n",
        "        '['\n",
        "        u'\\U0001F600-\\U0001F64F'  # emoticons\n",
        "        u'\\U0001F300-\\U0001F5FF'  # symbols & pictographs\n",
        "        u'\\U0001F680-\\U0001F6FF'  # transport & map symbols\n",
        "        u'\\U0001F1E0-\\U0001F1FF'  # flags (iOS)\n",
        "        u'\\U00002702-\\U000027B0'\n",
        "        u'\\U000024C2-\\U0001F251'\n",
        "        ']+',\n",
        "        flags=re.UNICODE)\n",
        "  return emoji_pattern.sub(r\"\",text)"
      ],
      "metadata": {
        "id": "iI-ZLm_BDaNe"
      },
      "execution_count": 91,
      "outputs": []
    },
    {
      "cell_type": "code",
      "source": [
        "def clean_text(text):\n",
        "  text = str(text).lower()\n",
        "  text = remove_emoji(text)\n",
        "  text = re.sub(r'https?://\\S+|www\\.\\S+', '', text)\n",
        "  text = re.sub(r'RT[\\s]+', '', text)\n",
        "  text = re.sub(r'@\\S+', '', text)\n",
        "  text = re.sub(r'#', '', text)\n",
        "  text = re.sub(r'\\[', '', text)\n",
        "  text = re.sub(r'\\]', '', text)\n",
        "  text = re.sub('\\.+', '.', text)\n",
        "  text = re.sub('&amp;', 'and', text)\n",
        "  text = re.sub(\"let's\", 'let us', text)\n",
        "  text = re.sub(\"'s\", ' is', text)\n",
        "  text = re.sub(\"'re\", ' are', text)\n",
        "  text = re.sub(\"ain't\", 'am not', text)\n",
        "  text = re.sub(\"won't\", 'will not', text)\n",
        "  text = re.sub(\"n't\", ' not', text)\n",
        "  text = re.sub(\"'ve\", ' have', text)\n",
        "  text = re.sub(\"y'all\", \"you all\", text)\n",
        "  text = re.sub(\"'ll\", ' will', text)\n",
        "  text = re.sub(\"i'd\", 'i would', text)\n",
        "  text = re.sub(\"i'm\", 'i am', text)\n",
        "  text = re.sub(r\"[^a-z<>!?\\s]+\", '', text)\n",
        "  text = re.sub('covid\\S*', 'coronavirus', text)\n",
        "  text = re.sub('corona\\S*', 'coronavirus', text)\n",
        "  \n",
        "  return text"
      ],
      "metadata": {
        "id": "dbfMmE7cG5UU"
      },
      "execution_count": 92,
      "outputs": []
    },
    {
      "cell_type": "code",
      "source": [
        "x_train_clean = np.array([clean_text(text) for text in x_train],dtype='O')\n",
        "x_test_clean = np.array([clean_text(text) for text in x_test],dtype='O')\n",
        "x_val_clean = np.array([clean_text(text) for text in x_val],dtype='O')\n",
        "import nltk"
      ],
      "metadata": {
        "id": "avJo-Q7QqQtB"
      },
      "execution_count": 93,
      "outputs": []
    },
    {
      "cell_type": "code",
      "source": [
        "from nltk.stem import WordNetLemmatizer\n",
        "Lemmatizer = WordNetLemmatizer()\n",
        "tokenizer = nltk.tokenize.TweetTokenizer()"
      ],
      "metadata": {
        "id": "0xfBGDJ9x-iZ"
      },
      "execution_count": 94,
      "outputs": []
    },
    {
      "cell_type": "code",
      "source": [
        "from nltk.corpus import stopwords"
      ],
      "metadata": {
        "id": "9P85qeZUzLZn"
      },
      "execution_count": 95,
      "outputs": []
    },
    {
      "cell_type": "code",
      "source": [
        "def lemmatize(text):\n",
        "  words = tokenizer.tokenize(text)\n",
        "  words = [Lemmatizer.lemmatize(word) for word in words if word not in stopwords.words(\"english\")]\n",
        "  return words"
      ],
      "metadata": {
        "id": "UoS0buSsyt7-"
      },
      "execution_count": 96,
      "outputs": []
    },
    {
      "cell_type": "code",
      "source": [
        "from tqdm import tqdm\n",
        "import nltk\n",
        "nltk.download(\"stopwords\")"
      ],
      "metadata": {
        "colab": {
          "base_uri": "https://localhost:8080/"
        },
        "id": "6q5GGtDQzWXL",
        "outputId": "08b86700-5534-42e3-d3a2-85684cdab358"
      },
      "execution_count": 97,
      "outputs": [
        {
          "output_type": "stream",
          "name": "stderr",
          "text": [
            "[nltk_data] Downloading package stopwords to /root/nltk_data...\n",
            "[nltk_data]   Package stopwords is already up-to-date!\n"
          ]
        },
        {
          "output_type": "execute_result",
          "data": {
            "text/plain": [
              "True"
            ]
          },
          "metadata": {},
          "execution_count": 97
        }
      ]
    },
    {
      "cell_type": "code",
      "source": [
        "nltk.download('wordnet')\n",
        "nltk.download('omw-1.4')"
      ],
      "metadata": {
        "id": "_YNu65tW14kC",
        "colab": {
          "base_uri": "https://localhost:8080/"
        },
        "outputId": "ea405bce-2d12-464b-837d-5a8967c177e8"
      },
      "execution_count": 98,
      "outputs": [
        {
          "output_type": "stream",
          "name": "stderr",
          "text": [
            "[nltk_data] Downloading package wordnet to /root/nltk_data...\n",
            "[nltk_data]   Package wordnet is already up-to-date!\n",
            "[nltk_data] Downloading package omw-1.4 to /root/nltk_data...\n",
            "[nltk_data]   Package omw-1.4 is already up-to-date!\n"
          ]
        },
        {
          "output_type": "execute_result",
          "data": {
            "text/plain": [
              "True"
            ]
          },
          "metadata": {},
          "execution_count": 98
        }
      ]
    },
    {
      "cell_type": "code",
      "source": [
        "x_train_clean = np.array([lemmatize(text) for text in tqdm(x_train)],dtype='O')\n",
        "x_test_clean = np.array([lemmatize(text) for text in tqdm(x_test)],dtype='O')\n",
        "x_val_clean = np.array([lemmatize(text) for text in tqdm(x_val)],dtype='O')"
      ],
      "metadata": {
        "colab": {
          "base_uri": "https://localhost:8080/"
        },
        "id": "1RUZx8rvzbGy",
        "outputId": "c06a16f8-68ac-45e7-8428-eee589d982d9"
      },
      "execution_count": 99,
      "outputs": [
        {
          "output_type": "stream",
          "name": "stderr",
          "text": [
            "100%|██████████| 29310/29310 [02:02<00:00, 238.77it/s]\n",
            "100%|██████████| 2964/2964 [00:12<00:00, 230.98it/s]\n",
            "100%|██████████| 3257/3257 [00:12<00:00, 260.09it/s]\n"
          ]
        }
      ]
    },
    {
      "cell_type": "code",
      "source": [
        "import numpy as np\n",
        "embeding_index = dict()\n",
        "with open(\"/content/drive/MyDrive/covid tweets using nlp/glove.twitter.27B.200d.txt\") as f:\n",
        "  for line in f:\n",
        "    values = line.split(\" \")\n",
        "    word = values[0]\n",
        "    coefs = np.asarray(values[1:],dtype=\"float32\")\n",
        "    embeding_index[word] = coefs"
      ],
      "metadata": {
        "id": "xC3LdQRjDHx-"
      },
      "execution_count": 100,
      "outputs": []
    },
    {
      "cell_type": "code",
      "source": [
        "print(\"lenght of the embeding matrix is \",len(embeding_index))"
      ],
      "metadata": {
        "colab": {
          "base_uri": "https://localhost:8080/"
        },
        "id": "wuR6PXC765mI",
        "outputId": "ae451f46-519a-4830-dc7c-96ce0e0f15df"
      },
      "execution_count": 101,
      "outputs": [
        {
          "output_type": "stream",
          "name": "stdout",
          "text": [
            "lenght of the embeding matrix is  1193514\n"
          ]
        }
      ]
    },
    {
      "cell_type": "code",
      "source": [
        "max_len = max([len(sent) for sent in x_train_clean])\n",
        "max_len"
      ],
      "metadata": {
        "colab": {
          "base_uri": "https://localhost:8080/"
        },
        "id": "YmUKGl127Dr3",
        "outputId": "d4c0da77-87b6-40a0-cddc-e1e305b09290"
      },
      "execution_count": 102,
      "outputs": [
        {
          "output_type": "execute_result",
          "data": {
            "text/plain": [
              "158"
            ]
          },
          "metadata": {},
          "execution_count": 102
        }
      ]
    },
    {
      "cell_type": "code",
      "source": [
        "from tensorflow.keras.preprocessing import text, sequence\n",
        "\n",
        "model_tokenizer = text.Tokenizer(filters=None,oov_token=\"ooV\")\n",
        "model_tokenizer.fit_on_texts(list(x_train_clean)+list(x_val_clean))"
      ],
      "metadata": {
        "id": "yKB12rZ47OO4"
      },
      "execution_count": 103,
      "outputs": []
    },
    {
      "cell_type": "code",
      "source": [
        "x_ready_train = sequence.pad_sequences(model_tokenizer.texts_to_sequences(x_train_clean),maxlen=max_len,padding=\"post\")\n",
        "x_ready_test = sequence.pad_sequences(model_tokenizer.texts_to_sequences(x_test_clean),maxlen=max_len,padding=\"post\")\n",
        "x_ready_val = sequence.pad_sequences(model_tokenizer.texts_to_sequences(x_val_clean),maxlen=max_len,padding=\"post\")"
      ],
      "metadata": {
        "id": "2zrQs7J777gf"
      },
      "execution_count": 104,
      "outputs": []
    },
    {
      "cell_type": "code",
      "source": [
        "word_index = model_tokenizer.word_index\n",
        "word_index"
      ],
      "metadata": {
        "colab": {
          "base_uri": "https://localhost:8080/"
        },
        "id": "qffq3RtQ9DtA",
        "outputId": "4fb13ac3-1dea-4733-b7e6-e9bd0cfcc9d9"
      },
      "execution_count": 105,
      "outputs": [
        {
          "output_type": "execute_result",
          "data": {
            "text/plain": [
              "{'ooV': 1,\n",
              " '.': 2,\n",
              " ',': 3,\n",
              " '?': 4,\n",
              " '#coronavirus': 5,\n",
              " '19': 6,\n",
              " '-': 7,\n",
              " 'covid': 8,\n",
              " 'i': 9,\n",
              " 'price': 10,\n",
              " 'store': 11,\n",
              " '!': 12,\n",
              " '\\x92': 13,\n",
              " 'supermarket': 14,\n",
              " 'food': 15,\n",
              " ':': 16,\n",
              " 'grocery': 17,\n",
              " 'people': 18,\n",
              " 'consumer': 19,\n",
              " '#covid19': 20,\n",
              " 'the': 21,\n",
              " '&': 22,\n",
              " 'â': 23,\n",
              " 'online': 24,\n",
              " '\"': 25,\n",
              " 'shopping': 26,\n",
              " 'need': 27,\n",
              " '#covid_19': 28,\n",
              " 'time': 29,\n",
              " 'get': 30,\n",
              " '...': 31,\n",
              " 'pandemic': 32,\n",
              " 'worker': 33,\n",
              " ')': 34,\n",
              " 'hand': 35,\n",
              " '(': 36,\n",
              " 'demand': 37,\n",
              " 'like': 38,\n",
              " 'go': 39,\n",
              " 'panic': 40,\n",
              " 'home': 41,\n",
              " 'we': 42,\n",
              " 'u': 43,\n",
              " 'help': 44,\n",
              " 'coronavirus': 45,\n",
              " 'sanitizer': 46,\n",
              " 'one': 47,\n",
              " '/': 48,\n",
              " 'stock': 49,\n",
              " 'supply': 50,\n",
              " 'going': 51,\n",
              " 'due': 52,\n",
              " 'day': 53,\n",
              " 'work': 54,\n",
              " 'new': 55,\n",
              " 'crisis': 56,\n",
              " 'this': 57,\n",
              " 'week': 58,\n",
              " '#covid2019': 59,\n",
              " 'buying': 60,\n",
              " 'please': 61,\n",
              " 'business': 62,\n",
              " '#toiletpaper': 63,\n",
              " 'if': 64,\n",
              " 'mask': 65,\n",
              " 'oil': 66,\n",
              " '$': 67,\n",
              " 'toilet': 68,\n",
              " 'paper': 69,\n",
              " 'local': 70,\n",
              " 'delivery': 71,\n",
              " 'shop': 72,\n",
              " 'good': 73,\n",
              " 'a': 74,\n",
              " 'keep': 75,\n",
              " 'via': 76,\n",
              " 'make': 77,\n",
              " 'shelf': 78,\n",
              " 'stay': 79,\n",
              " 'today': 80,\n",
              " 'see': 81,\n",
              " 'buy': 82,\n",
              " 'many': 83,\n",
              " 'amp': 84,\n",
              " 'market': 85,\n",
              " 'say': 86,\n",
              " 'still': 87,\n",
              " \"'\": 88,\n",
              " '2': 89,\n",
              " 'in': 90,\n",
              " 'take': 91,\n",
              " 'essential': 92,\n",
              " 'know': 93,\n",
              " '%': 94,\n",
              " 'retail': 95,\n",
              " '#covid': 96,\n",
              " 'outbreak': 97,\n",
              " '\\x93': 98,\n",
              " 'you': 99,\n",
              " 'way': 100,\n",
              " 'service': 101,\n",
              " 'customer': 102,\n",
              " 'staff': 103,\n",
              " 'could': 104,\n",
              " 'would': 105,\n",
              " 'social': 106,\n",
              " 'stop': 107,\n",
              " 'even': 108,\n",
              " '\\x94': 109,\n",
              " 'spread': 110,\n",
              " 'how': 111,\n",
              " 'impact': 112,\n",
              " 'product': 113,\n",
              " 'employee': 114,\n",
              " 'iâ': 115,\n",
              " 'thing': 116,\n",
              " 'everyone': 117,\n",
              " '1': 118,\n",
              " 'working': 119,\n",
              " 'also': 120,\n",
              " 'amid': 121,\n",
              " 'think': 122,\n",
              " 'health': 123,\n",
              " 'company': 124,\n",
              " 'virus': 125,\n",
              " '#socialdistancing': 126,\n",
              " 'right': 127,\n",
              " 'it': 128,\n",
              " 'as': 129,\n",
              " 'order': 130,\n",
              " 'government': 131,\n",
              " 'use': 132,\n",
              " 'item': 133,\n",
              " 'safe': 134,\n",
              " 'world': 135,\n",
              " 'no': 136,\n",
              " 'chain': 137,\n",
              " 'thank': 138,\n",
              " 'may': 139,\n",
              " 'to': 140,\n",
              " 'line': 141,\n",
              " 'back': 142,\n",
              " 'first': 143,\n",
              " 'what': 144,\n",
              " 'much': 145,\n",
              " 'my': 146,\n",
              " 'every': 147,\n",
              " 'lockdown': 148,\n",
              " 'want': 149,\n",
              " 'read': 150,\n",
              " 'family': 151,\n",
              " '3': 152,\n",
              " 'hour': 153,\n",
              " 'last': 154,\n",
              " 'so': 155,\n",
              " 'country': 156,\n",
              " 'support': 157,\n",
              " 'find': 158,\n",
              " 'and': 159,\n",
              " 'they': 160,\n",
              " 'look': 161,\n",
              " 'face': 162,\n",
              " 'low': 163,\n",
              " 'bank': 164,\n",
              " 'itâ': 165,\n",
              " 'year': 166,\n",
              " 'free': 167,\n",
              " 'life': 168,\n",
              " 'us': 169,\n",
              " 'around': 170,\n",
              " 'report': 171,\n",
              " 'said': 172,\n",
              " 'risk': 173,\n",
              " 'global': 174,\n",
              " 'news': 175,\n",
              " 'job': 176,\n",
              " 'got': 177,\n",
              " 'open': 178,\n",
              " 'donâ': 179,\n",
              " 'high': 180,\n",
              " 'well': 181,\n",
              " 'distancing': 182,\n",
              " 'just': 183,\n",
              " 'public': 184,\n",
              " \"i'm\": 185,\n",
              " 'state': 186,\n",
              " '*': 187,\n",
              " 'empty': 188,\n",
              " 'come': 189,\n",
              " 'change': 190,\n",
              " '#coronacrisis': 191,\n",
              " '..': 192,\n",
              " 'check': 193,\n",
              " 'went': 194,\n",
              " 'but': 195,\n",
              " 'for': 196,\n",
              " 'gas': 197,\n",
              " 'getting': 198,\n",
              " 'care': 199,\n",
              " 'really': 200,\n",
              " 'next': 201,\n",
              " 'since': 202,\n",
              " 'call': 203,\n",
              " 'money': 204,\n",
              " 'month': 205,\n",
              " 'increase': 206,\n",
              " 'not': 207,\n",
              " 'march': 208,\n",
              " 'industry': 209,\n",
              " 'available': 210,\n",
              " 'case': 211,\n",
              " 'all': 212,\n",
              " 'prices': 213,\n",
              " 'with': 214,\n",
              " 'community': 215,\n",
              " 'response': 216,\n",
              " 'making': 217,\n",
              " 'others': 218,\n",
              " 'put': 219,\n",
              " 'full': 220,\n",
              " 'taking': 221,\n",
              " 'enough': 222,\n",
              " 'place': 223,\n",
              " '2020': 224,\n",
              " 'long': 225,\n",
              " 'great': 226,\n",
              " 'sale': 227,\n",
              " 'there': 228,\n",
              " 'two': 229,\n",
              " '|': 230,\n",
              " 'economy': 231,\n",
              " 'behavior': 232,\n",
              " 'across': 233,\n",
              " '4': 234,\n",
              " 'house': 235,\n",
              " 'pay': 236,\n",
              " 'now': 237,\n",
              " 'uk': 238,\n",
              " 'share': 239,\n",
              " 'shortage': 240,\n",
              " 'lot': 241,\n",
              " 'our': 242,\n",
              " ';': 243,\n",
              " 'when': 244,\n",
              " 'anyone': 245,\n",
              " 'give': 246,\n",
              " 'must': 247,\n",
              " 'closed': 248,\n",
              " 'fight': 249,\n",
              " 'glove': 250,\n",
              " 'medical': 251,\n",
              " 'is': 252,\n",
              " 'roll': 253,\n",
              " 'scam': 254,\n",
              " '#pandemic': 255,\n",
              " '5': 256,\n",
              " '10': 257,\n",
              " 'close': 258,\n",
              " 'increased': 259,\n",
              " 'emergency': 260,\n",
              " 's': 261,\n",
              " 'trying': 262,\n",
              " 'everything': 263,\n",
              " 'hit': 264,\n",
              " 'protect': 265,\n",
              " 'driver': 266,\n",
              " 'why': 267,\n",
              " 'without': 268,\n",
              " 'best': 269,\n",
              " 'vulnerable': 270,\n",
              " 'small': 271,\n",
              " 'big': 272,\n",
              " 'update': 273,\n",
              " 'etc': 274,\n",
              " 'thanks': 275,\n",
              " 'restaurant': 276,\n",
              " 'never': 277,\n",
              " '\\x97': 278,\n",
              " 'latest': 279,\n",
              " 'economic': 280,\n",
              " 'let': 281,\n",
              " 'more': 282,\n",
              " 'already': 283,\n",
              " 'post': 284,\n",
              " 'live': 285,\n",
              " 'hope': 286,\n",
              " 'per': 287,\n",
              " 'drop': 288,\n",
              " 'are': 289,\n",
              " 'elderly': 290,\n",
              " 'protection': 291,\n",
              " 'seen': 292,\n",
              " \"can't\": 293,\n",
              " 'continue': 294,\n",
              " 'situation': 295,\n",
              " '+': 296,\n",
              " 'made': 297,\n",
              " 'sure': 298,\n",
              " 'mean': 299,\n",
              " 'show': 300,\n",
              " '#coronaviruspandemic': 301,\n",
              " 'someone': 302,\n",
              " 'cut': 303,\n",
              " '#stayhome': 304,\n",
              " 'learn': 305,\n",
              " 'using': 306,\n",
              " 'looking': 307,\n",
              " 'here': 308,\n",
              " \"it's\": 309,\n",
              " 'information': 310,\n",
              " '#coronavirusoutbreak': 311,\n",
              " 'better': 312,\n",
              " '20': 313,\n",
              " 'important': 314,\n",
              " 'end': 315,\n",
              " 'hospital': 316,\n",
              " 'real': 317,\n",
              " '#covid-19': 318,\n",
              " 'run': 319,\n",
              " 'list': 320,\n",
              " 'part': 321,\n",
              " 'hard': 322,\n",
              " 'person': 323,\n",
              " 'morning': 324,\n",
              " 'another': 325,\n",
              " 'feel': 326,\n",
              " 'start': 327,\n",
              " 'retailer': 328,\n",
              " 'avoid': 329,\n",
              " 'daily': 330,\n",
              " 'fear': 331,\n",
              " 'friend': 332,\n",
              " 'measure': 333,\n",
              " 'left': 334,\n",
              " '#retail': 335,\n",
              " 'hoarding': 336,\n",
              " 'data': 337,\n",
              " 'together': 338,\n",
              " 'canâ': 339,\n",
              " 'shopper': 340,\n",
              " 'away': 341,\n",
              " 'coming': 342,\n",
              " 'production': 343,\n",
              " 'water': 344,\n",
              " 'do': 345,\n",
              " 'able': 346,\n",
              " 'number': 347,\n",
              " 'fall': 348,\n",
              " 'current': 349,\n",
              " '#lockdown': 350,\n",
              " 'spending': 351,\n",
              " 'might': 352,\n",
              " '#supermarket': 353,\n",
              " 'financial': 354,\n",
              " 'key': 355,\n",
              " 'can': 356,\n",
              " 'visit': 357,\n",
              " 'at': 358,\n",
              " '#stayathome': 359,\n",
              " 'video': 360,\n",
              " 'selling': 361,\n",
              " 'front': 362,\n",
              " 'healthcare': 363,\n",
              " 'pharmacy': 364,\n",
              " 'normal': 365,\n",
              " 'le': 366,\n",
              " 'quarantine': 367,\n",
              " 'test': 368,\n",
              " 'tip': 369,\n",
              " 'trump': 370,\n",
              " 'ever': 371,\n",
              " '#': 372,\n",
              " 'meet': 373,\n",
              " 'thought': 374,\n",
              " '#corona': 375,\n",
              " 'area': 376,\n",
              " 'least': 377,\n",
              " '\\x91': 378,\n",
              " 'little': 379,\n",
              " 'positive': 380,\n",
              " 'city': 381,\n",
              " '6': 382,\n",
              " 'youâ': 383,\n",
              " 'contact': 384,\n",
              " 'leave': 385,\n",
              " 'weâ': 386,\n",
              " '#panicbuying': 387,\n",
              " 'plan': 388,\n",
              " 'outside': 389,\n",
              " 'safety': 390,\n",
              " '#stayhomesavelives': 391,\n",
              " 'issue': 392,\n",
              " 'wash': 393,\n",
              " 'w': 394,\n",
              " 'nurse': 395,\n",
              " '#quarantine': 396,\n",
              " 'seeing': 397,\n",
              " 'rise': 398,\n",
              " 'remember': 399,\n",
              " 'told': 400,\n",
              " 'including': 401,\n",
              " 'question': 402,\n",
              " 'china': 403,\n",
              " 'offer': 404,\n",
              " 'million': 405,\n",
              " 'man': 406,\n",
              " 'brand': 407,\n",
              " 'milk': 408,\n",
              " 'self': 409,\n",
              " 'police': 410,\n",
              " 'car': 411,\n",
              " 'group': 412,\n",
              " 'cost': 413,\n",
              " 'some': 414,\n",
              " 'april': 415,\n",
              " 'trip': 416,\n",
              " 'queue': 417,\n",
              " 'nothing': 418,\n",
              " 'done': 419,\n",
              " 'helping': 420,\n",
              " 'else': 421,\n",
              " 'purchase': 422,\n",
              " 'from': 423,\n",
              " 'result': 424,\n",
              " 'soap': 425,\n",
              " 'story': 426,\n",
              " 'something': 427,\n",
              " 'set': 428,\n",
              " 'website': 429,\n",
              " 'limit': 430,\n",
              " 'keeping': 431,\n",
              " 'doctor': 432,\n",
              " 'effect': 433,\n",
              " 'related': 434,\n",
              " 'offering': 435,\n",
              " 'distance': 436,\n",
              " 'yet': 437,\n",
              " 'corona': 438,\n",
              " 'shift': 439,\n",
              " 'sick': 440,\n",
              " 'be': 441,\n",
              " '#stophoarding': 442,\n",
              " 'running': 443,\n",
              " '#food': 444,\n",
              " 'deal': 445,\n",
              " 'system': 446,\n",
              " 'possible': 447,\n",
              " 'try': 448,\n",
              " \"we're\": 449,\n",
              " 'likely': 450,\n",
              " 'your': 451,\n",
              " 'provide': 452,\n",
              " 'will': 453,\n",
              " '100': 454,\n",
              " 'wearing': 455,\n",
              " 'on': 456,\n",
              " 'bad': 457,\n",
              " 'access': 458,\n",
              " 'lower': 459,\n",
              " '\\x96': 460,\n",
              " 'soon': 461,\n",
              " 'higher': 462,\n",
              " 'drug': 463,\n",
              " 'amazon': 464,\n",
              " 'drive': 465,\n",
              " 'point': 466,\n",
              " 'advice': 467,\n",
              " 'during': 468,\n",
              " 'needed': 469,\n",
              " 'sign': 470,\n",
              " 'tell': 471,\n",
              " 'instead': 472,\n",
              " 'woman': 473,\n",
              " '@': 474,\n",
              " 'major': 475,\n",
              " 'found': 476,\n",
              " 'travel': 477,\n",
              " 'prevent': 478,\n",
              " 'bottle': 479,\n",
              " '>': 480,\n",
              " 'join': 481,\n",
              " '50': 482,\n",
              " 'relief': 483,\n",
              " 'always': 484,\n",
              " 'used': 485,\n",
              " 'step': 486,\n",
              " 'watch': 487,\n",
              " 'bought': 488,\n",
              " 'americans': 489,\n",
              " 'wear': 490,\n",
              " 'article': 491,\n",
              " 'member': 492,\n",
              " 'alcohol': 493,\n",
              " 'school': 494,\n",
              " 'stocked': 495,\n",
              " 'surge': 496,\n",
              " 'special': 497,\n",
              " 'sector': 498,\n",
              " 'gouging': 499,\n",
              " 'govt': 500,\n",
              " 'that': 501,\n",
              " 'testing': 502,\n",
              " 'concern': 503,\n",
              " 'advantage': 504,\n",
              " 'email': 505,\n",
              " 'old': 506,\n",
              " 'while': 507,\n",
              " 'anything': 508,\n",
              " 'nhs': 509,\n",
              " 'death': 510,\n",
              " 'produce': 511,\n",
              " 'expert': 512,\n",
              " 'level': 513,\n",
              " '30': 514,\n",
              " 'problem': 515,\n",
              " 'far': 516,\n",
              " 'ensure': 517,\n",
              " 'yesterday': 518,\n",
              " 'india': 519,\n",
              " 'aisle': 520,\n",
              " 'love': 521,\n",
              " 'especially': 522,\n",
              " 'cause': 523,\n",
              " 'door': 524,\n",
              " 'putting': 525,\n",
              " 'link': 526,\n",
              " \"i've\": 527,\n",
              " 'kid': 528,\n",
              " '#covid19uk': 529,\n",
              " '#staysafe': 530,\n",
              " 'sell': 531,\n",
              " 'control': 532,\n",
              " 'top': 533,\n",
              " '#shopping': 534,\n",
              " 'moment': 535,\n",
              " 'team': 536,\n",
              " 'wait': 537,\n",
              " 'remain': 538,\n",
              " 'almost': 539,\n",
              " 'gone': 540,\n",
              " 'idea': 541,\n",
              " 'follow': 542,\n",
              " 'whole': 543,\n",
              " 'wipe': 544,\n",
              " '\\x95': 545,\n",
              " 'have': 546,\n",
              " 'bag': 547,\n",
              " '#coronavirusupdate': 548,\n",
              " '#sanitizer': 549,\n",
              " 'behaviour': 550,\n",
              " 'affected': 551,\n",
              " 'senior': 552,\n",
              " 'following': 553,\n",
              " 'after': 554,\n",
              " '7': 555,\n",
              " 'sanitizers': 556,\n",
              " 'info': 557,\n",
              " 'understand': 558,\n",
              " 'announced': 559,\n",
              " 'changing': 560,\n",
              " 'action': 561,\n",
              " 'meat': 562,\n",
              " 'future': 563,\n",
              " 'effort': 564,\n",
              " 'critical': 565,\n",
              " 'slot': 566,\n",
              " 'reduce': 567,\n",
              " 'rate': 568,\n",
              " 'resource': 569,\n",
              " 'paid': 570,\n",
              " 'healthy': 571,\n",
              " 'stuff': 572,\n",
              " 'farmer': 573,\n",
              " 'guy': 574,\n",
              " 'war': 575,\n",
              " 'extra': 576,\n",
              " 'staying': 577,\n",
              " 'tested': 578,\n",
              " 'period': 579,\n",
              " 'saw': 580,\n",
              " 'sold': 581,\n",
              " 'caused': 582,\n",
              " 'medium': 583,\n",
              " 'early': 584,\n",
              " '£': 585,\n",
              " 'save': 586,\n",
              " 'fresh': 587,\n",
              " 'asked': 588,\n",
              " 'selfish': 589,\n",
              " 'closure': 590,\n",
              " 'credit': 591,\n",
              " 'hero': 592,\n",
              " 'of': 593,\n",
              " 'ask': 594,\n",
              " 'commodity': 595,\n",
              " 'bread': 596,\n",
              " 'kind': 597,\n",
              " 'challenge': 598,\n",
              " 'difficult': 599,\n",
              " 'these': 600,\n",
              " '15': 601,\n",
              " 'waiting': 602,\n",
              " 'based': 603,\n",
              " 'huge': 604,\n",
              " 'despite': 605,\n",
              " '#oil': 606,\n",
              " 'personal': 607,\n",
              " 'shut': 608,\n",
              " 'street': 609,\n",
              " 'he': 610,\n",
              " 'maybe': 611,\n",
              " 'facing': 612,\n",
              " 'actually': 613,\n",
              " 'three': 614,\n",
              " 'trend': 615,\n",
              " \"here's\": 616,\n",
              " 'eat': 617,\n",
              " 'household': 618,\n",
              " 'benefit': 619,\n",
              " 'closing': 620,\n",
              " '#consumer': 621,\n",
              " 'act': 622,\n",
              " 'struggling': 623,\n",
              " 'saying': 624,\n",
              " 'egg': 625,\n",
              " 'research': 626,\n",
              " 'cannot': 627,\n",
              " 'basic': 628,\n",
              " 'message': 629,\n",
              " 'different': 630,\n",
              " 'taken': 631,\n",
              " \"don't\": 632,\n",
              " 'yes': 633,\n",
              " 'cash': 634,\n",
              " 'fuel': 635,\n",
              " 'given': 636,\n",
              " 'law': 637,\n",
              " 'reduced': 638,\n",
              " '8': 639,\n",
              " 'who': 640,\n",
              " 'nation': 641,\n",
              " 'ago': 642,\n",
              " '#handsanitizer': 643,\n",
              " 'human': 644,\n",
              " 'bill': 645,\n",
              " 'consider': 646,\n",
              " 'die': 647,\n",
              " 'large': 648,\n",
              " 'office': 649,\n",
              " 'security': 650,\n",
              " 'currently': 651,\n",
              " 'experience': 652,\n",
              " 'pack': 653,\n",
              " 'become': 654,\n",
              " 'national': 655,\n",
              " 'package': 656,\n",
              " 'tp': 657,\n",
              " 'president': 658,\n",
              " 'increasing': 659,\n",
              " 'crazy': 660,\n",
              " 'seriously': 661,\n",
              " 'reason': 662,\n",
              " 'card': 663,\n",
              " 'cleaning': 664,\n",
              " 'recent': 665,\n",
              " 'isolation': 666,\n",
              " \"that's\": 667,\n",
              " 'talk': 668,\n",
              " 'theyâ': 669,\n",
              " 'bring': 670,\n",
              " 'fast': 671,\n",
              " 'raise': 672,\n",
              " 'child': 673,\n",
              " 'started': 674,\n",
              " 'n': 675,\n",
              " 'lost': 676,\n",
              " 'donate': 677,\n",
              " 'profit': 678,\n",
              " '@realdonaldtrump': 679,\n",
              " '#quarantinelife': 680,\n",
              " '#stoppanicbuying': 681,\n",
              " 'night': 682,\n",
              " 'only': 683,\n",
              " 'restriction': 684,\n",
              " 'survive': 685,\n",
              " 'providing': 686,\n",
              " 'rule': 687,\n",
              " 'tomorrow': 688,\n",
              " 'bit': 689,\n",
              " 'policy': 690,\n",
              " 'insight': 691,\n",
              " 'practice': 692,\n",
              " 'folk': 693,\n",
              " '#grocery': 694,\n",
              " 'confidence': 695,\n",
              " 'meal': 696,\n",
              " \"there's\": 697,\n",
              " 'starting': 698,\n",
              " 'continues': 699,\n",
              " 'thinking': 700,\n",
              " 'shit': 701,\n",
              " \"they're\": 702,\n",
              " 'inside': 703,\n",
              " 'changed': 704,\n",
              " 'energy': 705,\n",
              " 'option': 706,\n",
              " 'according': 707,\n",
              " 'giving': 708,\n",
              " 'spreading': 709,\n",
              " '#ecommerce': 710,\n",
              " 'ppl': 711,\n",
              " 'america': 712,\n",
              " 'truck': 713,\n",
              " 'donation': 714,\n",
              " 'walk': 715,\n",
              " 'station': 716,\n",
              " 'plenty': 717,\n",
              " 'clean': 718,\n",
              " 'worried': 719,\n",
              " 'deliver': 720,\n",
              " 'pm': 721,\n",
              " 'cashier': 722,\n",
              " 'expect': 723,\n",
              " 'asking': 724,\n",
              " 'pick': 725,\n",
              " '@tesco': 726,\n",
              " 'force': 727,\n",
              " 'short': 728,\n",
              " 'near': 729,\n",
              " 'past': 730,\n",
              " 'wrong': 731,\n",
              " 'cure': 732,\n",
              " 'term': 733,\n",
              " 'owner': 734,\n",
              " 'me': 735,\n",
              " 'hey': 736,\n",
              " 'general': 737,\n",
              " 'hear': 738,\n",
              " 'survey': 739,\n",
              " 'federal': 740,\n",
              " 'payment': 741,\n",
              " 'kill': 742,\n",
              " '#coronavirusuk': 743,\n",
              " 'allowed': 744,\n",
              " 'opportunity': 745,\n",
              " 'american': 746,\n",
              " 'expected': 747,\n",
              " 'pantry': 748,\n",
              " 'living': 749,\n",
              " 'county': 750,\n",
              " 'blog': 751,\n",
              " 'believe': 752,\n",
              " 'crude': 753,\n",
              " 'buyer': 754,\n",
              " 'phone': 755,\n",
              " 'second': 756,\n",
              " 'habit': 757,\n",
              " 'alert': 758,\n",
              " 'though': 759,\n",
              " 'rs': 760,\n",
              " 'income': 761,\n",
              " 'clerk': 762,\n",
              " 'an': 763,\n",
              " 'patient': 764,\n",
              " 'light': 765,\n",
              " 'fuck': 766,\n",
              " 'amount': 767,\n",
              " 'russia': 768,\n",
              " 'ceo': 769,\n",
              " 'allow': 770,\n",
              " 'fucking': 771,\n",
              " 'trade': 772,\n",
              " 'vegetable': 773,\n",
              " '60': 774,\n",
              " 'fund': 775,\n",
              " 'falling': 776,\n",
              " 'recession': 777,\n",
              " 'click': 778,\n",
              " 'priority': 779,\n",
              " 'up': 780,\n",
              " 'society': 781,\n",
              " '12': 782,\n",
              " 'strong': 783,\n",
              " 'delivered': 784,\n",
              " 'limited': 785,\n",
              " 'minute': 786,\n",
              " 'unprecedented': 787,\n",
              " 'came': 788,\n",
              " 'gonna': 789,\n",
              " 'turn': 790,\n",
              " 'probably': 791,\n",
              " 'seems': 792,\n",
              " 'worse': 793,\n",
              " 'send': 794,\n",
              " 'monday': 795,\n",
              " 'answer': 796,\n",
              " 'thereâ': 797,\n",
              " 'ready': 798,\n",
              " 'fighting': 799,\n",
              " 'longer': 800,\n",
              " 'canada': 801,\n",
              " 'giant': 802,\n",
              " 'note': 803,\n",
              " 'disease': 804,\n",
              " 'interesting': 805,\n",
              " 'site': 806,\n",
              " 'listen': 807,\n",
              " 'temporarily': 808,\n",
              " 'potential': 809,\n",
              " '000': 810,\n",
              " 'afford': 811,\n",
              " 'move': 812,\n",
              " 'massive': 813,\n",
              " 'parent': 814,\n",
              " 'notice': 815,\n",
              " 'she': 816,\n",
              " 'couple': 817,\n",
              " 'worry': 818,\n",
              " 'nice': 819,\n",
              " 'happy': 820,\n",
              " 'rising': 821,\n",
              " 'decline': 822,\n",
              " 'thatâ': 823,\n",
              " 'clear': 824,\n",
              " 'b': 825,\n",
              " 'collapse': 826,\n",
              " 'took': 827,\n",
              " 'e': 828,\n",
              " 'pasta': 829,\n",
              " 'wake': 830,\n",
              " 'equipment': 831,\n",
              " 'or': 832,\n",
              " '25': 833,\n",
              " 'necessary': 834,\n",
              " 'fruit': 835,\n",
              " 'lead': 836,\n",
              " 'citizen': 837,\n",
              " 'firm': 838,\n",
              " 'rice': 839,\n",
              " 'single': 840,\n",
              " 'break': 841,\n",
              " 'forced': 842,\n",
              " 'sentiment': 843,\n",
              " 'side': 844,\n",
              " 'marketing': 845,\n",
              " 'solution': 846,\n",
              " 'event': 847,\n",
              " 'however': 848,\n",
              " 'walmart': 849,\n",
              " 'discus': 850,\n",
              " 'touch': 851,\n",
              " 'several': 852,\n",
              " 'activity': 853,\n",
              " 'digital': 854,\n",
              " 'opening': 855,\n",
              " 'distribution': 856,\n",
              " 'operation': 857,\n",
              " 'kit': 858,\n",
              " 'power': 859,\n",
              " 'resident': 860,\n",
              " 'cough': 861,\n",
              " 'behind': 862,\n",
              " 'died': 863,\n",
              " 'spend': 864,\n",
              " 'head': 865,\n",
              " 'serious': 866,\n",
              " 'south': 867,\n",
              " 'half': 868,\n",
              " 'gold': 869,\n",
              " 'easy': 870,\n",
              " 'affect': 871,\n",
              " 'fact': 872,\n",
              " 'ok': 873,\n",
              " 'usual': 874,\n",
              " '#toiletpaperpanic': 875,\n",
              " 'official': 876,\n",
              " 'driving': 877,\n",
              " 'hiking': 878,\n",
              " 'warning': 879,\n",
              " 'chance': 880,\n",
              " 'beginning': 881,\n",
              " 'record': 882,\n",
              " 'department': 883,\n",
              " 'inflated': 884,\n",
              " 'worth': 885,\n",
              " 'apart': 886,\n",
              " 'italy': 887,\n",
              " '#toiletpapercrisis': 888,\n",
              " '#economy': 889,\n",
              " 'symptom': 890,\n",
              " '9': 891,\n",
              " 'medicine': 892,\n",
              " 'anxiety': 893,\n",
              " 'minister': 894,\n",
              " 'true': 895,\n",
              " 'producer': 896,\n",
              " 'amazing': 897,\n",
              " 'town': 898,\n",
              " 'hygiene': 899,\n",
              " \"let's\": 900,\n",
              " 'claim': 901,\n",
              " 'calling': 902,\n",
              " 'workers': 903,\n",
              " 'impacted': 904,\n",
              " '@borisjohnson': 905,\n",
              " 'mass': 906,\n",
              " 'hoard': 907,\n",
              " 'showing': 908,\n",
              " 'box': 909,\n",
              " 'chinese': 910,\n",
              " 'happen': 911,\n",
              " 'finally': 912,\n",
              " 'god': 913,\n",
              " 'pretty': 914,\n",
              " 'loss': 915,\n",
              " 'poor': 916,\n",
              " 'saudi': 917,\n",
              " '@sainsburys': 918,\n",
              " 'volunteer': 919,\n",
              " 'regarding': 920,\n",
              " ']': 921,\n",
              " 'responder': 922,\n",
              " 'rather': 923,\n",
              " 'pressure': 924,\n",
              " 'loan': 925,\n",
              " 'growth': 926,\n",
              " '[': 927,\n",
              " 'wage': 928,\n",
              " 'dear': 929,\n",
              " 'space': 930,\n",
              " 'frontline': 931,\n",
              " 'platform': 932,\n",
              " 'mind': 933,\n",
              " 'stand': 934,\n",
              " 'stockpiling': 935,\n",
              " 'rent': 936,\n",
              " '#china': 937,\n",
              " 'fake': 938,\n",
              " 'feed': 939,\n",
              " 'biggest': 940,\n",
              " 'forget': 941,\n",
              " 'oh': 942,\n",
              " 'charge': 943,\n",
              " 'hike': 944,\n",
              " 'called': 945,\n",
              " 'c': 946,\n",
              " 'washing': 947,\n",
              " 'tax': 948,\n",
              " 'coughing': 949,\n",
              " '#virus': 950,\n",
              " 'park': 951,\n",
              " 'ahead': 952,\n",
              " 'among': 953,\n",
              " 'hold': 954,\n",
              " 'student': 955,\n",
              " 'checkout': 956,\n",
              " 'growing': 957,\n",
              " 'add': 958,\n",
              " 'weekly': 959,\n",
              " 'trader': 960,\n",
              " 'donating': 961,\n",
              " 'tonight': 962,\n",
              " 'talking': 963,\n",
              " '40': 964,\n",
              " 'date': 965,\n",
              " 'value': 966,\n",
              " 'baby': 967,\n",
              " 'photo': 968,\n",
              " 'till': 969,\n",
              " 'infection': 970,\n",
              " 'book': 971,\n",
              " 'foot': 972,\n",
              " 'finding': 973,\n",
              " 'guess': 974,\n",
              " 'word': 975,\n",
              " 'dropped': 976,\n",
              " 'precaution': 977,\n",
              " 'focus': 978,\n",
              " 'cart': 979,\n",
              " 'gov': 980,\n",
              " 'billion': 981,\n",
              " 'r': 982,\n",
              " 'ppe': 983,\n",
              " 'disruption': 984,\n",
              " 'bare': 985,\n",
              " 'warehouse': 986,\n",
              " 'did': 987,\n",
              " 'wine': 988,\n",
              " 'plus': 989,\n",
              " 'dr': 990,\n",
              " 'return': 991,\n",
              " 'quick': 992,\n",
              " 'simple': 993,\n",
              " 'regular': 994,\n",
              " 'older': 995,\n",
              " 'created': 996,\n",
              " 'direct': 997,\n",
              " 'certain': 998,\n",
              " 'shutdown': 999,\n",
              " 'quickly': 1000,\n",
              " ...}"
            ]
          },
          "metadata": {},
          "execution_count": 105
        }
      ]
    },
    {
      "cell_type": "code",
      "source": [
        "embeding_matrix = np.zeros((len(word_index),200))\n",
        "for word,i in word_index.items():\n",
        "  vector = embeding_index.get(word)\n",
        "  if vector is not None:\n",
        "    embeding_matrix[i] = vector"
      ],
      "metadata": {
        "id": "5jNzJNNu97eV"
      },
      "execution_count": 106,
      "outputs": []
    },
    {
      "cell_type": "code",
      "source": [
        "from sklearn.preprocessing import OneHotEncoder\n",
        "\n",
        "oneh = OneHotEncoder()\n",
        "y_train_ready = oneh.fit_transform(y_train.reshape(-1,1)).toarray()\n",
        "y_test_ready = oneh.fit_transform(y_test.reshape(-1,1)).toarray()\n",
        "y_val_ready = oneh.fit_transform(y_val.reshape(-1,1)).toarray()"
      ],
      "metadata": {
        "id": "77j8qOVj-9Yb"
      },
      "execution_count": 113,
      "outputs": []
    },
    {
      "cell_type": "code",
      "source": [
        "from tensorflow import keras"
      ],
      "metadata": {
        "id": "KqFjMm1PK3k-"
      },
      "execution_count": 114,
      "outputs": []
    },
    {
      "cell_type": "code",
      "source": [
        "model = keras.models.Sequential([\n",
        "    keras.layers.Embedding(len(word_index),200,input_length=max_len,weights=[embeding_matrix],trainable=False),\n",
        "    keras.layers.SpatialDropout1D(.5),\n",
        "    keras.layers.Bidirectional(keras.layers.LSTM(100, recurrent_dropout=.3)),\n",
        "    keras.layers.BatchNormalization(),\n",
        "    keras.layers.Dropout(.6),\n",
        "    keras.layers.Dense(1024, activation='relu'),\n",
        "    keras.layers.BatchNormalization(),\n",
        "    keras.layers.Dropout(.6),\n",
        "    \n",
        "    keras.layers.Dense(5, activation='softmax')\n",
        "])"
      ],
      "metadata": {
        "colab": {
          "base_uri": "https://localhost:8080/"
        },
        "id": "9ueS5_eZLvou",
        "outputId": "9d19feff-a414-4eb5-b3ec-bffa2334b83c"
      },
      "execution_count": 118,
      "outputs": [
        {
          "output_type": "stream",
          "name": "stderr",
          "text": [
            "WARNING:tensorflow:Layer lstm_1 will not use cuDNN kernels since it doesn't meet the criteria. It will use a generic GPU kernel as fallback when running on GPU.\n",
            "WARNING:tensorflow:Layer lstm_1 will not use cuDNN kernels since it doesn't meet the criteria. It will use a generic GPU kernel as fallback when running on GPU.\n",
            "WARNING:tensorflow:Layer lstm_1 will not use cuDNN kernels since it doesn't meet the criteria. It will use a generic GPU kernel as fallback when running on GPU.\n"
          ]
        }
      ]
    },
    {
      "cell_type": "code",
      "source": [
        "\n",
        "model.compile(optimizer=keras.optimizers.Adam(learning_rate=.01),\n",
        "              loss='categorical_crossentropy',\n",
        "              metrics='accuracy')"
      ],
      "metadata": {
        "id": "jIibqY18M5PF"
      },
      "execution_count": 119,
      "outputs": []
    },
    {
      "cell_type": "markdown",
      "source": [
        "5 classes"
      ],
      "metadata": {
        "id": "rJbE-6q2VTfB"
      }
    },
    {
      "cell_type": "code",
      "source": [
        "x_ready_train=np.asarray(x_ready_train)\n",
        "y_train_ready=np.asarray(y_train_ready)"
      ],
      "metadata": {
        "id": "vFdX6WXXPxOP"
      },
      "execution_count": 124,
      "outputs": []
    },
    {
      "cell_type": "code",
      "source": [
        "model.fit(x_ready_train,y_train_ready,validation_split=0.2,epochs=20, batch_size=512)"
      ],
      "metadata": {
        "colab": {
          "base_uri": "https://localhost:8080/"
        },
        "id": "W-ApmM4XN0Qr",
        "outputId": "13ed92b1-a176-40a5-932b-8a24b507ba74"
      },
      "execution_count": 126,
      "outputs": [
        {
          "output_type": "stream",
          "name": "stdout",
          "text": [
            "Epoch 1/20\n",
            "46/46 [==============================] - 65s 1s/step - loss: 1.2703 - accuracy: 0.4490 - val_loss: 1.1596 - val_accuracy: 0.4828\n",
            "Epoch 2/20\n",
            "46/46 [==============================] - 65s 1s/step - loss: 1.2338 - accuracy: 0.4664 - val_loss: 1.1210 - val_accuracy: 0.5031\n",
            "Epoch 3/20\n",
            "46/46 [==============================] - 63s 1s/step - loss: 1.2007 - accuracy: 0.4832 - val_loss: 1.0393 - val_accuracy: 0.5442\n",
            "Epoch 4/20\n",
            "46/46 [==============================] - 61s 1s/step - loss: 1.1791 - accuracy: 0.4955 - val_loss: 0.9900 - val_accuracy: 0.5839\n",
            "Epoch 5/20\n",
            "46/46 [==============================] - 63s 1s/step - loss: 1.1571 - accuracy: 0.5066 - val_loss: 0.9877 - val_accuracy: 0.5901\n",
            "Epoch 6/20\n",
            "46/46 [==============================] - 61s 1s/step - loss: 1.1380 - accuracy: 0.5194 - val_loss: 0.9627 - val_accuracy: 0.5993\n",
            "Epoch 7/20\n",
            "46/46 [==============================] - 62s 1s/step - loss: 1.1232 - accuracy: 0.5245 - val_loss: 0.9536 - val_accuracy: 0.6150\n",
            "Epoch 8/20\n",
            "46/46 [==============================] - 63s 1s/step - loss: 1.1107 - accuracy: 0.5300 - val_loss: 1.0402 - val_accuracy: 0.5648\n",
            "Epoch 9/20\n",
            "46/46 [==============================] - 61s 1s/step - loss: 1.1091 - accuracy: 0.5325 - val_loss: 0.9590 - val_accuracy: 0.6029\n",
            "Epoch 10/20\n",
            "46/46 [==============================] - 63s 1s/step - loss: 1.0971 - accuracy: 0.5442 - val_loss: 0.9330 - val_accuracy: 0.6203\n",
            "Epoch 11/20\n",
            "46/46 [==============================] - 61s 1s/step - loss: 1.0901 - accuracy: 0.5435 - val_loss: 0.9704 - val_accuracy: 0.5989\n",
            "Epoch 12/20\n",
            "46/46 [==============================] - 63s 1s/step - loss: 1.0790 - accuracy: 0.5473 - val_loss: 0.9511 - val_accuracy: 0.6107\n",
            "Epoch 13/20\n",
            "46/46 [==============================] - 62s 1s/step - loss: 1.0664 - accuracy: 0.5570 - val_loss: 0.9056 - val_accuracy: 0.6307\n",
            "Epoch 14/20\n",
            "46/46 [==============================] - 65s 1s/step - loss: 1.0690 - accuracy: 0.5560 - val_loss: 0.9150 - val_accuracy: 0.6262\n",
            "Epoch 15/20\n",
            "46/46 [==============================] - 67s 1s/step - loss: 1.0529 - accuracy: 0.5618 - val_loss: 0.9410 - val_accuracy: 0.6153\n",
            "Epoch 16/20\n",
            "46/46 [==============================] - 63s 1s/step - loss: 1.0496 - accuracy: 0.5627 - val_loss: 0.9314 - val_accuracy: 0.6191\n",
            "Epoch 17/20\n",
            "46/46 [==============================] - 62s 1s/step - loss: 1.0530 - accuracy: 0.5630 - val_loss: 0.9264 - val_accuracy: 0.6221\n",
            "Epoch 18/20\n",
            "46/46 [==============================] - 62s 1s/step - loss: 1.0422 - accuracy: 0.5716 - val_loss: 0.8983 - val_accuracy: 0.6356\n",
            "Epoch 19/20\n",
            "46/46 [==============================] - 63s 1s/step - loss: 1.0287 - accuracy: 0.5736 - val_loss: 0.9096 - val_accuracy: 0.6293\n",
            "Epoch 20/20\n",
            "46/46 [==============================] - 61s 1s/step - loss: 1.0348 - accuracy: 0.5707 - val_loss: 0.9246 - val_accuracy: 0.6250\n"
          ]
        },
        {
          "output_type": "execute_result",
          "data": {
            "text/plain": [
              "<keras.callbacks.History at 0x7fd931b1adc0>"
            ]
          },
          "metadata": {},
          "execution_count": 126
        }
      ]
    },
    {
      "cell_type": "markdown",
      "source": [
        "3 classes"
      ],
      "metadata": {
        "id": "-FTp6siWVVVD"
      }
    },
    {
      "cell_type": "code",
      "source": [
        "y_train_3 , y_val_3 , y_test_3 = y_train.copy() , y_val.copy() , y_test.copy()\n",
        "y_train_3"
      ],
      "metadata": {
        "colab": {
          "base_uri": "https://localhost:8080/"
        },
        "id": "-fJv1IGkVWi0",
        "outputId": "399d21cf-db7e-420e-ce14-341adf4d8a36"
      },
      "execution_count": 130,
      "outputs": [
        {
          "output_type": "execute_result",
          "data": {
            "text/plain": [
              "array(['Neutral', 'Extremely Positive', 'Extremely Positive', ...,\n",
              "       'Positive', 'Positive', 'Negative'], dtype=object)"
            ]
          },
          "metadata": {},
          "execution_count": 130
        }
      ]
    },
    {
      "cell_type": "code",
      "source": [
        "\n",
        "y_train_3[y_train_3 == 'Extremely Positive'] = 'Positive'\n",
        "y_train_3[y_train_3 == 'Extremely Negative'] = 'Negative'\n",
        "y_val_3[y_val_3 == 'Extremely Positive'] = 'Positive'\n",
        "y_val_3[y_val_3 == 'Extremely Negative'] = 'Negative'\n",
        "y_test_3[y_test_3 == 'Extremely Positive'] = 'Positive'\n",
        "y_test_3[y_test_3 == 'Extremely Negative'] = 'Negative'"
      ],
      "metadata": {
        "id": "rgh1CqslV4_o"
      },
      "execution_count": 131,
      "outputs": []
    },
    {
      "cell_type": "code",
      "source": [
        "onehot_3 = OneHotEncoder()\n",
        "\n",
        "y_train_3_onehot = onehot_3.fit_transform(y_train_3.reshape(-1,1)).toarray()\n",
        "y_val_3_onehot = onehot_3.transform(y_val_3.reshape(-1,1)).toarray()\n",
        "y_test_3_onehot = onehot_3.transform(y_test_3.reshape(-1,1)).toarray()\n",
        "\n",
        "y_train_3_onehot"
      ],
      "metadata": {
        "colab": {
          "base_uri": "https://localhost:8080/"
        },
        "id": "bK4koqgdWJVu",
        "outputId": "8e36d190-b081-426b-9cf6-3e92a1d09527"
      },
      "execution_count": 132,
      "outputs": [
        {
          "output_type": "execute_result",
          "data": {
            "text/plain": [
              "array([[0., 1., 0.],\n",
              "       [0., 0., 1.],\n",
              "       [0., 0., 1.],\n",
              "       ...,\n",
              "       [0., 0., 1.],\n",
              "       [0., 0., 1.],\n",
              "       [1., 0., 0.]])"
            ]
          },
          "metadata": {},
          "execution_count": 132
        }
      ]
    },
    {
      "cell_type": "code",
      "source": [
        "modelp = keras.models.Sequential([\n",
        "    keras.layers.Embedding(len(word_index),200,input_length=max_len,weights=[embeding_matrix],trainable=False),\n",
        "    keras.layers.SpatialDropout1D(.5),\n",
        "    keras.layers.Bidirectional(keras.layers.LSTM(100, recurrent_dropout=.3)),\n",
        "    keras.layers.BatchNormalization(),\n",
        "    keras.layers.Dropout(.6),\n",
        "    keras.layers.BatchNormalization(),\n",
        "    keras.layers.Dropout(.6),\n",
        "    \n",
        "    keras.layers.Dense(3, activation='softmax')\n",
        "])"
      ],
      "metadata": {
        "colab": {
          "base_uri": "https://localhost:8080/"
        },
        "id": "ftkG6MKfWL8Y",
        "outputId": "1a3a39b2-6182-4fa3-a3a6-c533ef38018b"
      },
      "execution_count": 146,
      "outputs": [
        {
          "output_type": "stream",
          "name": "stderr",
          "text": [
            "WARNING:tensorflow:Layer lstm_6 will not use cuDNN kernels since it doesn't meet the criteria. It will use a generic GPU kernel as fallback when running on GPU.\n",
            "WARNING:tensorflow:Layer lstm_6 will not use cuDNN kernels since it doesn't meet the criteria. It will use a generic GPU kernel as fallback when running on GPU.\n",
            "WARNING:tensorflow:Layer lstm_6 will not use cuDNN kernels since it doesn't meet the criteria. It will use a generic GPU kernel as fallback when running on GPU.\n"
          ]
        }
      ]
    },
    {
      "cell_type": "code",
      "source": [
        "\n",
        "modelp.compile(optimizer=keras.optimizers.Adam(learning_rate=.01),\n",
        "              loss='categorical_crossentropy',\n",
        "              metrics='accuracy')"
      ],
      "metadata": {
        "id": "fH5u7d-NWRXK"
      },
      "execution_count": 147,
      "outputs": []
    },
    {
      "cell_type": "code",
      "source": [
        "modelp.fit(x_ready_train,y_train_3_onehot,validation_split=0.2,epochs=20, batch_size=512)"
      ],
      "metadata": {
        "colab": {
          "base_uri": "https://localhost:8080/"
        },
        "id": "1p3gK1sxWTg0",
        "outputId": "1f055ff9-2549-431f-e398-c2cb29e62d6e"
      },
      "execution_count": 148,
      "outputs": [
        {
          "output_type": "stream",
          "name": "stdout",
          "text": [
            "Epoch 1/20\n",
            "46/46 [==============================] - 72s 1s/step - loss: 1.1246 - accuracy: 0.5042 - val_loss: 0.8775 - val_accuracy: 0.5998\n",
            "Epoch 2/20\n",
            "46/46 [==============================] - 63s 1s/step - loss: 0.8907 - accuracy: 0.6038 - val_loss: 0.8970 - val_accuracy: 0.6051\n",
            "Epoch 3/20\n",
            "46/46 [==============================] - 63s 1s/step - loss: 0.8355 - accuracy: 0.6374 - val_loss: 0.7758 - val_accuracy: 0.6573\n",
            "Epoch 4/20\n",
            "46/46 [==============================] - 63s 1s/step - loss: 0.8023 - accuracy: 0.6587 - val_loss: 0.7379 - val_accuracy: 0.6878\n",
            "Epoch 5/20\n",
            "46/46 [==============================] - 62s 1s/step - loss: 0.7782 - accuracy: 0.6736 - val_loss: 0.6708 - val_accuracy: 0.7427\n",
            "Epoch 6/20\n",
            "46/46 [==============================] - 65s 1s/step - loss: 0.7626 - accuracy: 0.6765 - val_loss: 0.6553 - val_accuracy: 0.7542\n",
            "Epoch 7/20\n",
            "46/46 [==============================] - 63s 1s/step - loss: 0.7561 - accuracy: 0.6834 - val_loss: 0.6277 - val_accuracy: 0.7644\n",
            "Epoch 8/20\n",
            "46/46 [==============================] - 61s 1s/step - loss: 0.7356 - accuracy: 0.6951 - val_loss: 0.6155 - val_accuracy: 0.7637\n",
            "Epoch 9/20\n",
            "46/46 [==============================] - 63s 1s/step - loss: 0.7227 - accuracy: 0.7024 - val_loss: 0.5969 - val_accuracy: 0.7752\n",
            "Epoch 10/20\n",
            "46/46 [==============================] - 62s 1s/step - loss: 0.7196 - accuracy: 0.7034 - val_loss: 0.5884 - val_accuracy: 0.7755\n",
            "Epoch 11/20\n",
            "46/46 [==============================] - 61s 1s/step - loss: 0.7111 - accuracy: 0.7101 - val_loss: 0.5810 - val_accuracy: 0.7776\n",
            "Epoch 12/20\n",
            "46/46 [==============================] - 63s 1s/step - loss: 0.7011 - accuracy: 0.7152 - val_loss: 0.5836 - val_accuracy: 0.7726\n",
            "Epoch 13/20\n",
            "46/46 [==============================] - 60s 1s/step - loss: 0.6950 - accuracy: 0.7170 - val_loss: 0.5648 - val_accuracy: 0.7863\n",
            "Epoch 14/20\n",
            "46/46 [==============================] - 62s 1s/step - loss: 0.6785 - accuracy: 0.7227 - val_loss: 0.5808 - val_accuracy: 0.7709\n",
            "Epoch 15/20\n",
            "46/46 [==============================] - 62s 1s/step - loss: 0.6890 - accuracy: 0.7237 - val_loss: 0.5632 - val_accuracy: 0.7764\n",
            "Epoch 16/20\n",
            "46/46 [==============================] - 61s 1s/step - loss: 0.6744 - accuracy: 0.7274 - val_loss: 0.5539 - val_accuracy: 0.7869\n",
            "Epoch 17/20\n",
            "46/46 [==============================] - 63s 1s/step - loss: 0.6755 - accuracy: 0.7277 - val_loss: 0.5754 - val_accuracy: 0.7765\n",
            "Epoch 18/20\n",
            "46/46 [==============================] - 61s 1s/step - loss: 0.6698 - accuracy: 0.7307 - val_loss: 0.5417 - val_accuracy: 0.7900\n",
            "Epoch 19/20\n",
            "46/46 [==============================] - 62s 1s/step - loss: 0.6648 - accuracy: 0.7365 - val_loss: 0.5455 - val_accuracy: 0.7980\n",
            "Epoch 20/20\n",
            "46/46 [==============================] - 62s 1s/step - loss: 0.6613 - accuracy: 0.7368 - val_loss: 0.5437 - val_accuracy: 0.7924\n"
          ]
        },
        {
          "output_type": "execute_result",
          "data": {
            "text/plain": [
              "<keras.callbacks.History at 0x7fd8783e4820>"
            ]
          },
          "metadata": {},
          "execution_count": 148
        }
      ]
    },
    {
      "cell_type": "code",
      "source": [
        "y_pred_3 = modelp.predict(x_ready_val)\n",
        "y_pred_3 = np.argmax(y_pred_3, axis=1) "
      ],
      "metadata": {
        "colab": {
          "base_uri": "https://localhost:8080/"
        },
        "id": "zlJmLJ-vWVY7",
        "outputId": "178e8cb9-b137-44ee-fd3b-dd0c5a134730"
      },
      "execution_count": 153,
      "outputs": [
        {
          "output_type": "stream",
          "name": "stdout",
          "text": [
            "102/102 [==============================] - 11s 101ms/step\n"
          ]
        }
      ]
    },
    {
      "cell_type": "code",
      "source": [],
      "metadata": {
        "id": "bGzhaIrUcWhd"
      },
      "execution_count": null,
      "outputs": []
    }
  ]
}